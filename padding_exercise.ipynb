{
  "nbformat": 4,
  "nbformat_minor": 0,
  "metadata": {
    "colab": {
      "name": "padding_exercise.ipynb",
      "provenance": [],
      "authorship_tag": "ABX9TyNy+O/pPUvVFY12vsdSK6iG",
      "include_colab_link": true
    },
    "kernelspec": {
      "name": "python3",
      "display_name": "Python 3"
    },
    "language_info": {
      "name": "python"
    }
  },
  "cells": [
    {
      "cell_type": "markdown",
      "metadata": {
        "id": "view-in-github",
        "colab_type": "text"
      },
      "source": [
        "<a href=\"https://colab.research.google.com/github/Vedant-Agarwal/Natural-Language-Processing-Projects/blob/main/padding_exercise.ipynb\" target=\"_parent\"><img src=\"https://colab.research.google.com/assets/colab-badge.svg\" alt=\"Open In Colab\"/></a>"
      ]
    },
    {
      "cell_type": "code",
      "execution_count": null,
      "metadata": {
        "id": "I7waMzKMQO0A"
      },
      "outputs": [],
      "source": [
        "# break train set into validation set\n",
        "batch_size = 32\n",
        "seed = 42\n",
        "\n",
        "raw_train_ds = utils.text_dataset_from_directory(\n",
        "    train_dir,\n",
        "    batch_size=batch_size,\n",
        "    validation_split=0.2,\n",
        "    subset='training',\n",
        "    seed=seed)"
      ]
    },
    {
      "cell_type": "markdown",
      "source": [
        "class_names = directory names\n",
        "\n",
        "take = read file"
      ],
      "metadata": {
        "id": "BVWylR6hREwL"
      }
    },
    {
      "cell_type": "code",
      "source": [
        "from tensorflow.keras.preprocessing.text import Tokenizer\n",
        "from tensorflow.keras.preprocessing.sequence import pad_sequences"
      ],
      "metadata": {
        "id": "41iKK5k5RERu"
      },
      "execution_count": 2,
      "outputs": []
    },
    {
      "cell_type": "code",
      "source": [
        "sentences = [\n",
        "            'My name is Vedant Agarwal',\n",
        "             'My brothers name is Tarang Agarwal',\n",
        "             'My fathers name is Rajesh Agarwal',\n",
        "             'My mothers name is Rita Agarwal'\n",
        "          ]\n",
        "print(sentences) "
      ],
      "metadata": {
        "colab": {
          "base_uri": "https://localhost:8080/"
        },
        "id": "VCUgH6aUZ-2H",
        "outputId": "0228edc3-0b82-4c93-d83a-7bfc0c5ece03"
      },
      "execution_count": 3,
      "outputs": [
        {
          "output_type": "stream",
          "name": "stdout",
          "text": [
            "['My name is Vedant Agarwal', 'My brothers name is Tarang Agarwal', 'My fathers name is Rajesh Agarwal', 'My mothers name is Rita Agarwal']\n"
          ]
        }
      ]
    },
    {
      "cell_type": "code",
      "source": [
        "tokenizer = Tokenizer(num_words=15, oov_token = \"<OOV>\")"
      ],
      "metadata": {
        "id": "cnLjX6cIaQK9"
      },
      "execution_count": 4,
      "outputs": []
    },
    {
      "cell_type": "code",
      "source": [
        "tokenizer.fit_on_texts(sentences)"
      ],
      "metadata": {
        "id": "xlHVPQPpaXZU"
      },
      "execution_count": 5,
      "outputs": []
    },
    {
      "cell_type": "code",
      "source": [
        "word_index = tokenizer.word_index\n",
        "print(word_index)"
      ],
      "metadata": {
        "colab": {
          "base_uri": "https://localhost:8080/"
        },
        "id": "ChFxmqCzaZ10",
        "outputId": "ae559fea-eae6-4240-bc9b-290ed719b2af"
      },
      "execution_count": 6,
      "outputs": [
        {
          "output_type": "stream",
          "name": "stdout",
          "text": [
            "{'<OOV>': 1, 'my': 2, 'name': 3, 'is': 4, 'agarwal': 5, 'vedant': 6, 'brothers': 7, 'tarang': 8, 'fathers': 9, 'rajesh': 10, 'mothers': 11, 'rita': 12}\n"
          ]
        }
      ]
    },
    {
      "cell_type": "code",
      "source": [
        "sequences = tokenizer.texts_to_sequences(sentences)\n",
        "print(sequences)"
      ],
      "metadata": {
        "colab": {
          "base_uri": "https://localhost:8080/"
        },
        "id": "tr86NTMSadat",
        "outputId": "5b5a2326-38c0-4be8-bb0b-c60435b91eee"
      },
      "execution_count": 7,
      "outputs": [
        {
          "output_type": "stream",
          "name": "stdout",
          "text": [
            "[[2, 3, 4, 6, 5], [2, 7, 3, 4, 8, 5], [2, 9, 3, 4, 10, 5], [2, 11, 3, 4, 12, 5]]\n"
          ]
        }
      ]
    },
    {
      "cell_type": "code",
      "source": [
        "padded = pad_sequences(sequences, maxlen = 10, padding=\"post\")\n",
        "print(padded)"
      ],
      "metadata": {
        "colab": {
          "base_uri": "https://localhost:8080/"
        },
        "id": "b-AI1NN0aoMF",
        "outputId": "2e99c494-422e-490c-af3d-e3eb57a5f2fe"
      },
      "execution_count": 10,
      "outputs": [
        {
          "output_type": "stream",
          "name": "stdout",
          "text": [
            "[[ 2  3  4  6  5  0  0  0  0  0]\n",
            " [ 2  7  3  4  8  5  0  0  0  0]\n",
            " [ 2  9  3  4 10  5  0  0  0  0]\n",
            " [ 2 11  3  4 12  5  0  0  0  0]]\n"
          ]
        }
      ]
    },
    {
      "cell_type": "code",
      "source": [
        "test_data = [\n",
        "             'His favorite ice cream is strawberry',\n",
        "             'The national sport of India is Hockey'\n",
        "            ]\n",
        "print(test_data)\n",
        "\n",
        "test_seq = tokenizer.texts_to_sequences(test_data)\n",
        "        "
      ],
      "metadata": {
        "colab": {
          "base_uri": "https://localhost:8080/"
        },
        "id": "DXhBps9-a1IF",
        "outputId": "2803ffba-de47-43ba-8711-74b39cf2fe0c"
      },
      "execution_count": 11,
      "outputs": [
        {
          "output_type": "stream",
          "name": "stdout",
          "text": [
            "['His favorite ice cream is strawberry', 'The national sport of India is Hockey']\n"
          ]
        }
      ]
    },
    {
      "cell_type": "code",
      "source": [
        "test_seq"
      ],
      "metadata": {
        "colab": {
          "base_uri": "https://localhost:8080/"
        },
        "id": "RN7IxPfDbWad",
        "outputId": "f0c88ab8-e285-4f57-adf6-00d20e479944"
      },
      "execution_count": 12,
      "outputs": [
        {
          "output_type": "execute_result",
          "data": {
            "text/plain": [
              "[[1, 1, 1, 1, 4, 1], [1, 1, 1, 1, 1, 4, 1]]"
            ]
          },
          "metadata": {},
          "execution_count": 12
        }
      ]
    },
    {
      "cell_type": "code",
      "source": [
        "padded = pad_sequences(test_seq, maxlen=15, padding=\"post\")\n",
        "padded"
      ],
      "metadata": {
        "colab": {
          "base_uri": "https://localhost:8080/"
        },
        "id": "Xm0CT6K_bXNd",
        "outputId": "456935d0-bd49-4c61-d138-44b0c50ae4e9"
      },
      "execution_count": 14,
      "outputs": [
        {
          "output_type": "execute_result",
          "data": {
            "text/plain": [
              "array([[1, 1, 1, 1, 4, 1, 0, 0, 0, 0, 0, 0, 0, 0, 0],\n",
              "       [1, 1, 1, 1, 1, 4, 1, 0, 0, 0, 0, 0, 0, 0, 0]], dtype=int32)"
            ]
          },
          "metadata": {},
          "execution_count": 14
        }
      ]
    },
    {
      "cell_type": "code",
      "source": [
        ""
      ],
      "metadata": {
        "id": "8tBhdQZabeUN"
      },
      "execution_count": null,
      "outputs": []
    }
  ]
}